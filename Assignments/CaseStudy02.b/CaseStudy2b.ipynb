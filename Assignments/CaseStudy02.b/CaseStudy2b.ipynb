{
 "nbformat": 4,
 "nbformat_minor": 2,
 "metadata": {
  "language_info": {
   "name": "python",
   "codemirror_mode": {
    "name": "ipython",
    "version": 3
   },
   "version": "3.8.1-final"
  },
  "orig_nbformat": 2,
  "file_extension": ".py",
  "mimetype": "text/x-python",
  "name": "python",
  "npconvert_exporter": "python",
  "pygments_lexer": "ipython3",
  "version": 3,
  "kernelspec": {
   "name": "python38164bitvenvvirtualenvebd00977e119419aabbc50e84ea34474",
   "display_name": "Python 3.8.1 64-bit ('venv': virtualenv)"
  }
 },
 "cells": [
  {
   "cell_type": "markdown",
   "execution_count": null,
   "metadata": {},
   "outputs": [],
   "source": [
    "# Case Study 2 (OOP & Exception Handling)\n",
    "\n",
    "by *Zaid Barghouthi*"
   ]
  },
  {
   "cell_type": "markdown",
   "execution_count": null,
   "metadata": {},
   "outputs": [],
   "source": [
    "## Domain – E-Commerce\n",
    "\n",
    "## Focus – Optimization\n",
    "\n",
    "#### Business challenge/requirement\n",
    "\n",
    "companyX is the largest ecommerce company in Jordan with revenue of $2B+, company acquired another company called companyY. company has its own IT system to maintain records of customer, sales etc. For ease of maintenance and cost savings, companyX is integrating the customer databases of both organizations, hence the customer data of companyY has to be converted in companyX customer format.\n",
    "\n",
    "##### Key issues\n",
    "\n",
    "companyX customer data has more fields than in companyY customer data. Hence companyY data needs to be split and stored in companyX customer object-oriented data structure.\n",
    "\n",
    "##### Considerations\n",
    "\n",
    "The system should convert the data at run time.\n",
    "\n",
    "##### Data Volume\n",
    "\n",
    "NA\n",
    "\n",
    "##### Additional information\n",
    "\n",
    "NA\n",
    "\n",
    "##### Business benefits\n",
    "\n",
    "NA\n",
    "\n",
    "##### Approach to solve\n",
    "\n",
    "Using the fundamentals of python taught in the second module:\n",
    "\n",
    "1. Read CompanyYCustomerData.csv file (check how to open a file from slides)\n",
    "2. The name field contains full name – use regular expressions to separate title,first name, and last name\n",
    "3. Store the data in Customer Class\n",
    "4. Create a custom exception – CustomerNotAllowedException\n",
    "5. Pass a customer to function “createOrder” and throw CustomerNotAllowedException in case of blacklisted value is 1.\n",
    "\n",
    "##### Enhancements for code\n",
    "\n",
    "You can try these enhancements in code:\n",
    "\n",
    "1. Change the function createOrder to take productname and product code as input\n",
    "2. Create class Order\n",
    "3. Return object of type Order in case customer is eligible"
   ]
  },
  {
   "cell_type": "code",
   "execution_count": null,
   "metadata": {},
   "outputs": [],
   "source": [
    "# Prep\n",
    "\n",
    "import sys\n",
    "import re\n",
    "sys.path.insert(1, './Resources')\n",
    "from Customer import Customer"
   ]
  },
  {
   "cell_type": "code",
   "execution_count": null,
   "metadata": {},
   "outputs": [],
   "source": [
    "# Import CompanyY data from disk (1)\n",
    "\n",
    "with open('Resources/companyYCustomerData.csv') as f:\n",
    "    companyY_data = f.readlines()"
   ]
  },
  {
   "cell_type": "code",
   "execution_count": null,
   "metadata": {},
   "outputs": [],
   "source": [
    "# Extract records from csv lines and store as Customer objects (2,3)\n",
    "\n",
    "reg = re.compile('^\\s((?:\\w|\\s|\\-|\\/)+),\\s(\\w+\\.)\\s((?:\\w|\\/)+)\\s.*,(\\d)$') \n",
    "# Groups: \n",
    "# [1] Last name\n",
    "# [2] Title\n",
    "# [3] Frist name\n",
    "# [4] Blacklist: '1' or '0'\n",
    "records = []\n",
    "for entry in companyY_data:\n",
    "    entry_grouped = re.match(reg, entry)\n",
    "    ob = Customer()\n",
    "    ob.setTitle(entry_grouped[2])\n",
    "    ob.setFname(entry_grouped[3])\n",
    "    ob.setLname(entry_grouped[1])\n",
    "    ob.setIsblacklisted(int(entry_grouped[4]))\n",
    "    records.append(ob)"
   ]
  },
  {
   "cell_type": "code",
   "execution_count": null,
   "metadata": {},
   "outputs": [],
   "source": [
    "# Define a custom exception\n",
    "\n",
    "class CustomerNotAllowedException(Exception):\n",
    "    pass"
   ]
  },
  {
   "cell_type": "code",
   "execution_count": null,
   "metadata": {},
   "outputs": [],
   "source": [
    "# Create Order class\n",
    "\n",
    "class Order:\n",
    "    _customer = None\n",
    "    _product_name = None\n",
    "    _product_code = None\n",
    "\n",
    "    def __init__(self, customer, product_name, product_code):\n",
    "        self._customer = customer\n",
    "        self._product_name = product_name\n",
    "        self._product_code = product_code\n",
    "    \n",
    "    def __str__(self):\n",
    "        return f\"Order for <{self._product_name} #{self._product_code}> by <{self._customer.getTitle()} {self._customer.getFname()} {self._customer.getLname()}>\""
   ]
  },
  {
   "cell_type": "code",
   "execution_count": null,
   "metadata": {},
   "outputs": [],
   "source": [
    "# Make a create order function\n",
    "\n",
    "def createOrder(customer, product_name, product_number):\n",
    "    if customer.isblacklisted == 1:\n",
    "        raise CustomerNotAllowedException\n",
    "    return Order(customer, product_name, product_number)"
   ]
  },
  {
   "cell_type": "code",
   "execution_count": null,
   "metadata": {},
   "outputs": [],
   "source": [
    "# Test create order function\n",
    "\n",
    "for i in [0,1,2]:\n",
    "    try:\n",
    "        order = createOrder(records[i], \"Sony TV\", \"1234-1\")\n",
    "        print(order)\n",
    "    except CustomerNotAllowedException:\n",
    "        print(f\"Could not create an order! {records[i].getTitle()} {records[i].getFname()} {records[i].getLname()} is blacklisted\")"
   ]
  }
 ]
}