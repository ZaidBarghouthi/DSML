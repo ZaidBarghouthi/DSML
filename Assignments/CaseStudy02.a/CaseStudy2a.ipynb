{
 "nbformat": 4,
 "nbformat_minor": 2,
 "metadata": {
  "language_info": {
   "name": "python",
   "codemirror_mode": {
    "name": "ipython",
    "version": 3
   },
   "version": "3.8.1-final"
  },
  "orig_nbformat": 2,
  "file_extension": ".py",
  "mimetype": "text/x-python",
  "name": "python",
  "npconvert_exporter": "python",
  "pygments_lexer": "ipython3",
  "version": 3,
  "kernelspec": {
   "name": "python38164bitvenvvirtualenvebd00977e119419aabbc50e84ea34474",
   "display_name": "Python 3.8.1 64-bit ('venv': virtualenv)"
  }
 },
 "cells": [
  {
   "cell_type": "markdown",
   "execution_count": null,
   "metadata": {},
   "outputs": [],
   "source": [
    "# Case Study 2 (functions)"
   ]
  },
  {
   "cell_type": "markdown",
   "execution_count": null,
   "metadata": {},
   "outputs": [],
   "source": [
    "## Task 1\n",
    "A robot moves in a plane starting from the origin point(0,0). The robot can move UP,DOWN,LEFT,RIGHT. Write a program that takes how many steps the robot walks in each direction then print out the distance between the robot’s current position and the origin.\n",
    "\n",
    "Hint: use the math module."
   ]
  },
  {
   "cell_type": "code",
   "execution_count": 2,
   "metadata": {},
   "outputs": [
    {
     "output_type": "execute_result",
     "data": {
      "text/plain": "14.142135623730951"
     },
     "metadata": {},
     "execution_count": 2
    }
   ],
   "source": [
    "# Porgram\n",
    "from math import sqrt\n",
    "def distance_from_origin(up=0, down=0, left=0, right=0):\n",
    "    return sqrt((up-down)**2 + (left-right)**2)\n",
    "\n",
    "# Test\n",
    "distance_from_origin(up=1, down=11, left=10)"
   ]
  },
  {
   "cell_type": "markdown",
   "execution_count": null,
   "metadata": {},
   "outputs": [],
   "source": [
    "## Task 2\n",
    "\n",
    "Some data is stored in a sorted list, write a program that takes the list and the element and looks for the element in the given list and returns it.\n"
   ]
  },
  {
   "cell_type": "code",
   "execution_count": 1,
   "metadata": {},
   "outputs": [],
   "source": [
    "## Task 2"
   ]
  },
  {
   "cell_type": "markdown",
   "execution_count": null,
   "metadata": {},
   "outputs": [],
   "source": [
    "## Task 3\n",
    "\n",
    "A weather forecasting organization want to find whether it is dark outside or not. Write a program that once called, print outs whether its dark or not outside. \n",
    "\n",
    "Hint: use the time module"
   ]
  },
  {
   "cell_type": "code",
   "execution_count": 3,
   "metadata": {},
   "outputs": [
    {
     "output_type": "stream",
     "name": "stdout",
     "text": "It's dark outside\n"
    }
   ],
   "source": [
    "# Program\n",
    "## Assuming its dark after 6 p.m. and before 6 a.m.\n",
    "from datetime import datetime\n",
    "def is_it_dark_outside():\n",
    "    h = datetime.now().hour\n",
    "    if h > 18 or h < 6:\n",
    "        print(\"It's dark outside\")\n",
    "    else:\n",
    "        print(\"It's not dark outside\")\n",
    "\n",
    "# Test\n",
    "is_it_dark_outside()"
   ]
  },
  {
   "cell_type": "markdown",
   "execution_count": null,
   "metadata": {},
   "outputs": [],
   "source": [
    "## Task 4\n",
    "\n",
    "Write a program that finds the distance between two points if their longitude and latitude is given. \n",
    "\n",
    "Hint: use the math module\n"
   ]
  },
  {
   "cell_type": "code",
   "execution_count": 4,
   "metadata": {},
   "outputs": [
    {
     "output_type": "stream",
     "name": "stdout",
     "text": "Distance is 278.821 km.\n"
    }
   ],
   "source": [
    "# Program\n",
    "from math import sin, cos, atan2, sqrt, radians\n",
    "def distance_between_two_points(p, p0=(0,0)):\n",
    "\n",
    "    p_r = (radians(p[0]), radians(p[1]))\n",
    "    p0_r = (radians(p0[0]), radians(p0[1]))\n",
    "    \n",
    "    diff_lat_r = p_r[0] - p0_r[0]\n",
    "    diff_lng_r = p_r[1] - p0_r[1]\n",
    "\n",
    "    a = (sin(diff_lat_r/2))**2 + cos(p_r[0]) * cos(p0_r[0]) * (sin(diff_lng_r/2))**2\n",
    "    c = 2 * atan2(sqrt(a), sqrt(1-a))\n",
    "\n",
    "    R = 6373.0 # Raduis of earth\n",
    "    d = R * c\n",
    "\n",
    "    return print(\"Distance is %.3f km.\" % d ) \n",
    "\n",
    "\n",
    "# Test\n",
    "distance_between_two_points((52.22,21.01),(52.40,16.92))"
   ]
  },
  {
   "cell_type": "markdown",
   "execution_count": null,
   "metadata": {},
   "outputs": [],
   "source": [
    "## Task 5\n",
    "\n",
    "Design a software for bank system. That gives the user the following options: cash withdraw, cash deposit and changing the password. According to the user’s input, the software should provide the required output"
   ]
  },
  {
   "cell_type": "code",
   "execution_count": 5,
   "metadata": {},
   "outputs": [],
   "source": [
    "# Task 5 sol here..."
   ]
  },
  {
   "cell_type": "markdown",
   "execution_count": null,
   "metadata": {},
   "outputs": [],
   "source": [
    "## Task 6\n",
    "\n",
    "Write a function which find all the numbers that are divisible by 7 but are not multiples of 5, between two given numbers, the function should print those numbers in a comma separated sequence on a single line."
   ]
  },
  {
   "cell_type": "code",
   "execution_count": 6,
   "metadata": {},
   "outputs": [
    {
     "output_type": "stream",
     "name": "stdout",
     "text": "7,14,21,28,42,49,56,63,77\n"
    }
   ],
   "source": [
    "# Program\n",
    "def my_func_6(start, end):\n",
    "    if start >= end:\n",
    "        raise ValueError\n",
    "    \n",
    "    sol = []\n",
    "    for i in range(start, end+1):\n",
    "        if i % 7 == 0 and i % 5 != 0:\n",
    "            sol.append(i)\n",
    "        i += 1\n",
    "    \n",
    "    print(*sol, sep=\",\")\n",
    "\n",
    "# Test\n",
    "my_func_6(1,80)"
   ]
  },
  {
   "cell_type": "markdown",
   "execution_count": null,
   "metadata": {},
   "outputs": [],
   "source": [
    "## Task 7\n",
    "\n",
    "Write a program that returns the factorial of a given number."
   ]
  },
  {
   "cell_type": "code",
   "execution_count": 7,
   "metadata": {},
   "outputs": [
    {
     "output_type": "execute_result",
     "data": {
      "text/plain": "120"
     },
     "metadata": {},
     "execution_count": 7
    }
   ],
   "source": [
    "# Program\n",
    "def fact(n):\n",
    "    if n < 0:\n",
    "        raise ValueError\n",
    "    sol = 1\n",
    "    for i in range(1,n+1):\n",
    "        sol *= i\n",
    "    return sol\n",
    "\n",
    "# Test\n",
    "fact(5)"
   ]
  },
  {
   "cell_type": "markdown",
   "execution_count": null,
   "metadata": {},
   "outputs": [],
   "source": [
    "## Task 8, 9\n",
    "\n",
    "Write a program that takes 2 digits, X,Y as input and generates a 2 dimensional array. The element value in the i-th row and j-th column of the array should be i*j. \n",
    "\n",
    "#### Example:\n",
    "\n",
    "```\n",
    "[[0, 0, 0, 0, 0],\n",
    " [0, 1, 2, 3, 4], \n",
    " [0, 2, 4, 6, 8]]\n",
    "```"
   ]
  },
  {
   "cell_type": "code",
   "execution_count": 8,
   "metadata": {},
   "outputs": [
    {
     "output_type": "stream",
     "name": "stdout",
     "text": "[[0 0 0 0 0]\n [0 1 2 3 4]\n [0 2 4 6 8]]\n"
    }
   ],
   "source": [
    "# Program\n",
    "import numpy as np\n",
    "def my_func_7(x,y):\n",
    "    arr = np.zeros((x,y), dtype=int)\n",
    "\n",
    "    for row in range(x):\n",
    "        for col in range(y):\n",
    "            arr[row][col] = int(row*col)\n",
    "\n",
    "    print(arr)\n",
    "\n",
    "# Test\n",
    "my_func_7(3,5)\n",
    ""
   ]
  },
  {
   "cell_type": "markdown",
   "execution_count": null,
   "metadata": {},
   "outputs": [],
   "source": [
    "## Task 10, 11\n",
    "\n",
    "Write a function that accepts a list of words as input and prints the words in a comma-seperated sequence after sorting them alphabetically. \n",
    "\n",
    "Example:\n",
    "Suppose the following input is supplied to the program: `without,hello,bag,world` Then, the output should be: `bag,hello,without,world`\n",
    "\n",
    "\n"
   ]
  },
  {
   "cell_type": "code",
   "execution_count": 9,
   "metadata": {},
   "outputs": [
    {
     "output_type": "stream",
     "name": "stdout",
     "text": "bag,hello,without,world\n"
    }
   ],
   "source": [
    "# Program\n",
    "def my_func_10(input_str):\n",
    "    input_list = input_str.split(',')\n",
    "    print(*sorted(input_list), sep=\",\")\n",
    "\n",
    "# Test\n",
    "my_func_10('without,hello,bag,world')"
   ]
  },
  {
   "cell_type": "markdown",
   "execution_count": null,
   "metadata": {},
   "outputs": [],
   "source": [
    "## Task 12\n",
    "\n",
    "Write a program that accepts a sequence of lines as input and prints the lines after making all character in the sentence capitalized. Example:\n",
    "\n",
    "Suppose the following input is supplied to the program:\n",
    "\n",
    "```\n",
    "Hello world\n",
    "Practice makes perfect\n",
    "```\n",
    "\n",
    "Then, the output should be:\n",
    "```\n",
    "HELLO WORLD\n",
    "PRACTICE MAKES PERFEC\n",
    "```"
   ]
  },
  {
   "cell_type": "code",
   "execution_count": 10,
   "metadata": {},
   "outputs": [
    {
     "output_type": "stream",
     "name": "stdout",
     "text": "MY SENTENCE!\nOTHER STUFF\n"
    }
   ],
   "source": [
    "# Program\n",
    "def my_func_14(lines):\n",
    "    for line in lines:\n",
    "        upper = line.upper()\n",
    "        print(upper)\n",
    "\n",
    "\n",
    "\n",
    "\n",
    "# Test\n",
    "my_func_14([\"My Sentence!\", \"other stuff\"])"
   ]
  },
  {
   "cell_type": "markdown",
   "execution_count": null,
   "metadata": {},
   "outputs": [],
   "source": [
    "## Task 13\n",
    "\n",
    "Write a function that accepts a sequence of comma separated 4 digit binary numbers as its input, and then checks whether they are divisible by 5 or not. The numbers that are divisible by 5 are to be printed in a comma separated sequence.\n",
    "\n",
    "Example:\n",
    "\n",
    "`0100,0011,1010,1001`\n",
    "\n",
    "Then the output should be:\n",
    "\n",
    "`1010`"
   ]
  },
  {
   "cell_type": "code",
   "execution_count": 11,
   "metadata": {},
   "outputs": [
    {
     "output_type": "stream",
     "name": "stdout",
     "text": "1010\n"
    }
   ],
   "source": [
    "# Program\n",
    "def my_func_13(input_str):\n",
    "    input_list = input_str.split(\",\")\n",
    "    sol = []\n",
    "    for el in input_list:\n",
    "        if int(el, 2) % 5 == 0:\n",
    "            sol.append(el)\n",
    "    return sol\n",
    "# Test\n",
    "s = my_func_13(\"0100,0011,1010,1001\")\n",
    "print(*s, sep=\",\")\n",
    "        "
   ]
  },
  {
   "cell_type": "markdown",
   "execution_count": null,
   "metadata": {},
   "outputs": [],
   "source": [
    "## Task 14\n",
    "\n",
    "Write a function that accepts a sentence and calculate the number of upper case letters and lower case letters in that sentence. \n",
    "\n",
    "Example :\n",
    "\n",
    "`Hello world!`\n",
    "\n",
    "Then, the output should be:\n",
    "\n",
    "```\n",
    "UPPER CASE 1\n",
    "LOWER CASE 9\n",
    "```"
   ]
  },
  {
   "cell_type": "code",
   "execution_count": 12,
   "metadata": {},
   "outputs": [
    {
     "output_type": "stream",
     "name": "stdout",
     "text": "UPPER CASE 2\nLOWER CASE 8\n"
    }
   ],
   "source": [
    "# Program\n",
    "def my_func_14(sentence):\n",
    "    upper = 0\n",
    "    lower = 0\n",
    "    for char in sentence:\n",
    "        if char.isupper():\n",
    "            upper += 1\n",
    "        elif char.islower():\n",
    "            lower += 1\n",
    "    \n",
    "    print(f\"UPPER CASE {upper}\")\n",
    "    print(f\"LOWER CASE {lower}\")\n",
    "\n",
    "\n",
    "# Test\n",
    "my_func_14(\"My Sentence!\")"
   ]
  },
  {
   "cell_type": "markdown",
   "execution_count": null,
   "metadata": {},
   "outputs": [],
   "source": [
    "## Task 15\n",
    "Give an example of the function fsum and sum from the math library."
   ]
  },
  {
   "cell_type": "code",
   "execution_count": 13,
   "metadata": {},
   "outputs": [
    {
     "output_type": "error",
     "ename": "NameError",
     "evalue": "name 'math' is not defined",
     "traceback": [
      "\u001b[1;31m---------------------------------------------------------------------------\u001b[0m",
      "\u001b[1;31mNameError\u001b[0m                                 Traceback (most recent call last)",
      "\u001b[1;32m<ipython-input-13-654369fea5c4>\u001b[0m in \u001b[0;36m<module>\u001b[1;34m\u001b[0m\n\u001b[0;32m      4\u001b[0m \u001b[0mlistA\u001b[0m \u001b[1;33m=\u001b[0m \u001b[0mlist\u001b[0m\u001b[1;33m(\u001b[0m\u001b[0mrange\u001b[0m\u001b[1;33m(\u001b[0m\u001b[1;36m1\u001b[0m\u001b[1;33m,\u001b[0m\u001b[1;36m11\u001b[0m\u001b[1;33m)\u001b[0m\u001b[1;33m)\u001b[0m \u001b[1;31m# [1..10]\u001b[0m\u001b[1;33m\u001b[0m\u001b[1;33m\u001b[0m\u001b[0m\n\u001b[0;32m      5\u001b[0m \u001b[0msumA\u001b[0m \u001b[1;33m=\u001b[0m \u001b[0msum\u001b[0m\u001b[1;33m(\u001b[0m\u001b[0mlistA\u001b[0m\u001b[1;33m)\u001b[0m\u001b[1;33m\u001b[0m\u001b[1;33m\u001b[0m\u001b[0m\n\u001b[1;32m----> 6\u001b[1;33m \u001b[0mfsumA\u001b[0m \u001b[1;33m=\u001b[0m \u001b[0mmath\u001b[0m\u001b[1;33m.\u001b[0m\u001b[0mfsum\u001b[0m\u001b[1;33m(\u001b[0m\u001b[0mlistA\u001b[0m\u001b[1;33m)\u001b[0m\u001b[1;33m\u001b[0m\u001b[1;33m\u001b[0m\u001b[0m\n\u001b[0m\u001b[0;32m      7\u001b[0m \u001b[1;33m\u001b[0m\u001b[0m\n\u001b[0;32m      8\u001b[0m \u001b[0mprint\u001b[0m\u001b[1;33m(\u001b[0m\u001b[1;34mf\"List A -> sum: {sumA}, fsum: {fsumA}\"\u001b[0m\u001b[1;33m)\u001b[0m\u001b[1;33m\u001b[0m\u001b[1;33m\u001b[0m\u001b[0m\n",
      "\u001b[1;31mNameError\u001b[0m: name 'math' is not defined"
     ]
    }
   ],
   "source": [
    "from math import fsum\n",
    "\n",
    "# Sum example\n",
    "listA = list(range(1,11)) # [1..10]\n",
    "sumA = sum(listA)\n",
    "fsumA = math.fsum(listA)\n",
    "\n",
    "print(f\"List A -> sum: {sumA}, fsum: {fsumA}\")\n",
    "\n",
    "listB = [1.5, 2.5, 3.5, 0.03]\n",
    "sumB = sum(listB)\n",
    "fsumB = math.fsum(listB)\n",
    "\n",
    "print(f\"List B -> sum: {sumB}, fsum: {fsumB}\")\n",
    "\n",
    "## fsum will always return a float\n",
    "\n",
    ""
   ]
  }
 ]
}