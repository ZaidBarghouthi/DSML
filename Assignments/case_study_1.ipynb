{
 "nbformat": 4,
 "nbformat_minor": 2,
 "metadata": {
  "language_info": {
   "name": "python",
   "codemirror_mode": {
    "name": "ipython",
    "version": 3
   },
   "version": "3.8.1-final"
  },
  "orig_nbformat": 2,
  "file_extension": ".py",
  "mimetype": "text/x-python",
  "name": "python",
  "npconvert_exporter": "python",
  "pygments_lexer": "ipython3",
  "version": 3,
  "kernelspec": {
   "name": "python38164bitvenvvirtualenvebd00977e119419aabbc50e84ea34474",
   "display_name": "Python 3.8.1 64-bit ('venv': virtualenv)"
  }
 },
 "cells": [
  {
   "cell_type": "markdown",
   "execution_count": null,
   "metadata": {},
   "outputs": [],
   "source": [
    "# Case Study 1\n",
    "by *Zaid Barghouthi*"
   ]
  },
  {
   "cell_type": "markdown",
   "execution_count": null,
   "metadata": {},
   "outputs": [],
   "source": [
    "### Task 1"
   ]
  },
  {
   "cell_type": "code",
   "execution_count": null,
   "metadata": {},
   "outputs": [],
   "source": [
    "n = int(input(\"Enter a positive integer:\"))\n",
    "if n <= 0:\n",
    "    pass\n",
    "    #stop program here.\n",
    "\n",
    "factors = set()\n",
    "i = 1\n",
    "while i <= n:\n",
    "    if n % i == 0:\n",
    "        factors.add((i, 'Even' if i % 2 == 0 else 'Odd'))\n",
    "    i += 1\n",
    "\n",
    "print(f\"Factors of {n} are: [format: (factor, Even/Odd)]\")\n",
    "print(*sorted(factors), sep=\",\")"
   ]
  },
  {
   "cell_type": "markdown",
   "execution_count": null,
   "metadata": {},
   "outputs": [],
   "source": [
    "### Task 2"
   ]
  },
  {
   "cell_type": "code",
   "execution_count": null,
   "metadata": {},
   "outputs": [],
   "source": [
    "string = input(\"Enter words separaed by a space:\")\n",
    "sequence = string.split(\" \")\n",
    "print(sorted(sequence))"
   ]
  },
  {
   "cell_type": "markdown",
   "execution_count": null,
   "metadata": {},
   "outputs": [],
   "source": [
    "### Task 3"
   ]
  },
  {
   "cell_type": "code",
   "execution_count": null,
   "metadata": {},
   "outputs": [],
   "source": [
    "solution = []\n",
    "\n",
    "for number in range(1000, 3001):\n",
    "    number_digits = [int(d) for d in str(number)]\n",
    "\n",
    "    all_even = True\n",
    "    for digit in number_digits:\n",
    "        if digit % 2 != 0:\n",
    "            all_even = False\n",
    "            break\n",
    "    \n",
    "    if all_even:\n",
    "        solution.append(number)\n",
    "\n",
    "print(*solution, sep=\",\")"
   ]
  },
  {
   "cell_type": "markdown",
   "execution_count": null,
   "metadata": {},
   "outputs": [],
   "source": [
    "### Task 4"
   ]
  },
  {
   "cell_type": "code",
   "execution_count": null,
   "metadata": {},
   "outputs": [],
   "source": [
    "sentence = input(\"Enter a sentence:\")\n",
    "\n",
    "letters_count = 0\n",
    "digits_count = 0\n",
    "\n",
    "for i in sentence:\n",
    "    if i.isalpha():\n",
    "        letters_count += 1\n",
    "        continue\n",
    "\n",
    "    if i.isdigit():\n",
    "        digits_count += 1\n",
    "\n",
    "print(f\"Sentence contains {letters_count} letter(s) and {digits_count} digit(s)\")"
   ]
  },
  {
   "cell_type": "markdown",
   "execution_count": null,
   "metadata": {},
   "outputs": [],
   "source": [
    "### Task 5"
   ]
  },
  {
   "cell_type": "code",
   "execution_count": null,
   "metadata": {},
   "outputs": [],
   "source": [
    "string = input(\"Enter a string:\")\n",
    "is_palindrome = string[:len(string)//2] == string[::-1][:len(string)//2]\n",
    "print(f\"The given string is {'' if is_palindrome else 'NOT '}a palindrome\")"
   ]
  }
 ]
}