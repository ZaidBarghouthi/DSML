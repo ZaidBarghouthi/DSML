{
 "nbformat": 4,
 "nbformat_minor": 2,
 "metadata": {
  "language_info": {
   "name": "python",
   "codemirror_mode": {
    "name": "ipython",
    "version": 3
   },
   "version": "3.8.1-final"
  },
  "orig_nbformat": 2,
  "file_extension": ".py",
  "mimetype": "text/x-python",
  "name": "python",
  "npconvert_exporter": "python",
  "pygments_lexer": "ipython3",
  "version": 3,
  "kernelspec": {
   "name": "python38164bitvenvvirtualenvebd00977e119419aabbc50e84ea34474",
   "display_name": "Python 3.8.1 64-bit ('venv': virtualenv)"
  }
 },
 "cells": [
  {
   "cell_type": "markdown",
   "execution_count": null,
   "metadata": {},
   "outputs": [],
   "source": [
    "Exercise 1"
   ]
  },
  {
   "cell_type": "code",
   "execution_count": null,
   "metadata": {},
   "outputs": [],
   "source": [
    "name = input(\"What is your name?\")\n",
    "age = int(input(\"How old are you?\"))\n",
    "print(f\"Your name is {name} and you are {age} years old.\")\n",
    "print(\"Your name is %s and you are %d years old.\" % (name, age))"
   ]
  },
  {
   "cell_type": "markdown",
   "execution_count": null,
   "metadata": {},
   "outputs": [],
   "source": [
    "Excercise 2"
   ]
  },
  {
   "cell_type": "code",
   "execution_count": null,
   "metadata": {},
   "outputs": [],
   "source": [
    "a = \"Learning journey\"\n",
    "print(f\"REVERSED: {a[::-1]}\")\n",
    "\n",
    "a_words = a.split(\" \")\n",
    "print(F\"FIRSR WORD: {a[0]}\")\n",
    "\n",
    "y_index = a.index('y')\n",
    "print(f\"y INDEX: {y_index}\")\n",
    "\n",
    "a += \"!\"\n",
    "\n",
    "print(f\"REPEATED 4 TIMES: {a*4}\")"
   ]
  },
  {
   "cell_type": "markdown",
   "execution_count": null,
   "metadata": {},
   "outputs": [],
   "source": [
    "Excercise 3\n",
    "\n",
    "Make a frequency table"
   ]
  },
  {
   "cell_type": "code",
   "execution_count": null,
   "metadata": {},
   "outputs": [],
   "source": [
    "my_list = [1,2,3,4,5,4,4,4,4,4,4,4,1,234,2344,3,5,4,3,2,2,4,4,4,4,4,4]\n",
    "freq_dic = {}\n",
    "\n",
    "for el in my_list:\n",
    "    try:\n",
    "        freq_dic[el] += 1\n",
    "    except KeyError:\n",
    "        freq_dic[el] = 1\n",
    "\n",
    "freq_dic"
   ]
  },
  {
   "cell_type": "markdown",
   "execution_count": null,
   "metadata": {},
   "outputs": [],
   "source": [
    "# Functions"
   ]
  },
  {
   "cell_type": "code",
   "execution_count": null,
   "metadata": {},
   "outputs": [],
   "source": [
    "from math import factorial\n",
    "a = lambda x1,x2 : 2*factorial(x1) + factorial(x2)\n",
    "\n",
    "a(3,4)"
   ]
  },
  {
   "cell_type": "markdown",
   "execution_count": null,
   "metadata": {},
   "outputs": [],
   "source": [
    "args & kwargs"
   ]
  },
  {
   "source": [
    "def func(arg1, arg2, arg3, *args, **kwargs):\n",
    "    print(f\"arg1: {arg1}\")\n",
    "    print(f\"arg2: {arg2}\")\n",
    "    print(f\"arg3: {arg3}\")\n",
    "    print(f\"args: {args}\")\n",
    "    print(f\"kwargs: {kwargs}\")\n",
    "\n",
    "func(1,2,3,4,5,4,5,6, force=True)"
   ],
   "cell_type": "code",
   "outputs": [],
   "metadata": {},
   "execution_count": null
  },
  {
   "cell_type": "markdown",
   "execution_count": null,
   "metadata": {},
   "outputs": [],
   "source": [
    "# Classes"
   ]
  },
  {
   "source": [
    "class My_Class:\n",
    "    def func1(self):\n",
    "        print(\"func1 called\")\n",
    "\n",
    "a = My_Class()\n",
    "a.func1()"
   ],
   "cell_type": "code",
   "outputs": [],
   "metadata": {},
   "execution_count": null
  }
 ]
}