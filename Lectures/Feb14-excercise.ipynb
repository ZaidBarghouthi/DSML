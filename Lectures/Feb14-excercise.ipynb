{
 "nbformat": 4,
 "nbformat_minor": 2,
 "metadata": {
  "language_info": {
   "name": "python",
   "codemirror_mode": {
    "name": "ipython",
    "version": 3
   },
   "version": "3.8.1-final"
  },
  "orig_nbformat": 2,
  "file_extension": ".py",
  "mimetype": "text/x-python",
  "name": "python",
  "npconvert_exporter": "python",
  "pygments_lexer": "ipython3",
  "version": 3,
  "kernelspec": {
   "name": "python38164bitvenvvirtualenvebd00977e119419aabbc50e84ea34474",
   "display_name": "Python 3.8.1 64-bit ('venv': virtualenv)"
  }
 },
 "cells": [
  {
   "cell_type": "code",
   "execution_count": 3,
   "metadata": {},
   "outputs": [],
   "source": [
    "import pandas as pn\n",
    "table = pn.read_csv(\"Data/AllCountries.csv\")"
   ]
  },
  {
   "cell_type": "markdown",
   "execution_count": null,
   "metadata": {},
   "outputs": [],
   "source": [
    "Given a dataset of countries (above)\n",
    "\n",
    "1. Find the countries with size greater than 2000 square km\n",
    "2. Find if there is a correlation between the GDP per capita of countries and their birth rates\n",
    "3. Compare the GDPs of the ten richest countries"
   ]
  },
  {
   "cell_type": "markdown",
   "execution_count": null,
   "metadata": {},
   "outputs": [],
   "source": [
    "## Task 1\n",
    "\n",
    "Find the countries with size greater than 2000 square km\n"
   ]
  },
  {
   "cell_type": "code",
   "execution_count": null,
   "metadata": {},
   "outputs": [],
   "source": [
    "# Solution 1\n",
    "\n",
    "contries_size_gt_2000 = []\n",
    "s = table['LandArea']\n",
    "s = s[s > 2000]\n",
    "for i,el in s.iteritems():\n",
    "    print(table.loc[i][\"Country\"])\n"
   ]
  },
  {
   "cell_type": "code",
   "execution_count": 4,
   "metadata": {},
   "outputs": [
    {
     "data": {
      "text/plain": "array(['Algeria', 'Argentina', 'Australia', 'Brazil', 'Canada', 'China',\n       'Congo, Dem. Rep.', 'India', 'Kazakhstan', 'Russian Federation',\n       'Saudi Arabia', 'Sudan', 'United States'], dtype=object)"
     },
     "execution_count": 4,
     "metadata": {},
     "output_type": "execute_result"
    }
   ],
   "source": [
    "# Solution 2\n",
    "\n",
    "t2 = table[table[\"LandArea\"] > 2000]\n",
    "t2[\"Country\"].values"
   ]
  },
  {
   "cell_type": "markdown",
   "execution_count": null,
   "metadata": {},
   "outputs": [],
   "source": [
    "## Task 2\n",
    "\n",
    "Find if there is a correlation between the GDP per capita of countries and their birth rates"
   ]
  },
  {
   "cell_type": "code",
   "execution_count": null,
   "metadata": {},
   "outputs": [],
   "source": [
    "import matplotlib.pyplot as plt\n",
    "\n",
    "s1 = table[\"GDP\"]\n",
    "s2 = table[\"BirthRate\"]\n",
    "\n",
    "plt.scatter(s1,s2)\n",
    "plt.show()\n",
    "\n",
    "\n",
    "# Close to an inverse relationship i.e. BirthRate α 1/GDP \n"
   ]
  },
  {
   "cell_type": "markdown",
   "execution_count": null,
   "metadata": {},
   "outputs": [],
   "source": [
    "## Task 3\n",
    "\n",
    "Compare the GDPs of the ten richest countries"
   ]
  },
  {
   "cell_type": "code",
   "execution_count": null,
   "metadata": {},
   "outputs": [],
   "source": [
    "# s = table[\"GDP\"]\n",
    "\n",
    "s = table.sort_values(\"GDP\", ascending=False).head(10)\n",
    "\n",
    "\n",
    "plt.pie(s[\"GDP\"], labels=s[\"Country\"])\n",
    "plt.show()\n"
   ]
  }
 ]
}